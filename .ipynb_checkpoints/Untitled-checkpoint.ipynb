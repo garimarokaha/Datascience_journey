{
 "cells": [
  {
   "cell_type": "code",
   "execution_count": 2,
   "id": "d02a7403-f6a8-4456-a164-43eb765d20ab",
   "metadata": {},
   "outputs": [],
   "source": [
    "# Pandas"
   ]
  },
  {
   "cell_type": "code",
   "execution_count": 3,
   "id": "6babf9b4-1e98-4c38-9371-15fb5b76435f",
   "metadata": {},
   "outputs": [],
   "source": [
    "# Data structure\n",
    "# series\n",
    "# dataframe"
   ]
  },
  {
   "cell_type": "code",
   "execution_count": 4,
   "id": "ee5e6b69-cec7-4789-86a5-f574a68ff0d4",
   "metadata": {},
   "outputs": [],
   "source": [
    "import pandas as pd"
   ]
  },
  {
   "cell_type": "code",
   "execution_count": 7,
   "id": "05c7c7c6-e569-4099-8005-a5230cc321dc",
   "metadata": {},
   "outputs": [
    {
     "name": "stdout",
     "output_type": "stream",
     "text": [
      "0    5\n",
      "1    7\n",
      "2    8\n",
      "3    9\n",
      "4    2\n",
      "dtype: int64\n"
     ]
    }
   ],
   "source": [
    "x = pd.Series([5,7,8,9,2])\n",
    "print(x)"
   ]
  },
  {
   "cell_type": "code",
   "execution_count": 8,
   "id": "7ef61c0f-2f19-4841-981d-0cafb108076b",
   "metadata": {},
   "outputs": [
    {
     "data": {
      "text/plain": [
       "2    8\n",
       "3    9\n",
       "dtype: int64"
      ]
     },
     "execution_count": 8,
     "metadata": {},
     "output_type": "execute_result"
    }
   ],
   "source": [
    "x[2:4]"
   ]
  },
  {
   "cell_type": "code",
   "execution_count": null,
   "id": "7e75f554-8508-485b-b3ee-689416762205",
   "metadata": {},
   "outputs": [],
   "source": [
    "#loc=> ley index kei kaam garchhaa\n",
    "#iloc()=> implicit lock\n",
    "#index deda yesle aafno user index pani store gareko hunchhaa iloc le\n"
   ]
  },
  {
   "cell_type": "code",
   "execution_count": 14,
   "id": "bb1aa718-1ede-4457-9e12-21d3ac40607d",
   "metadata": {},
   "outputs": [
    {
     "name": "stdout",
     "output_type": "stream",
     "text": [
      "a    5\n",
      "b    7\n",
      "c    8\n",
      "d    9\n",
      "dtype: int64\n"
     ]
    }
   ],
   "source": [
    "y=pd.Series([5,7,8,9],index=['a','b','c','d'])\n",
    "print(y)"
   ]
  },
  {
   "cell_type": "code",
   "execution_count": 16,
   "id": "275ebd6d-05e3-4a80-acb4-865ec0fa31b1",
   "metadata": {},
   "outputs": [
    {
     "data": {
      "text/plain": [
       "np.int64(7)"
      ]
     },
     "execution_count": 16,
     "metadata": {},
     "output_type": "execute_result"
    }
   ],
   "source": [
    "y.iloc[1]"
   ]
  },
  {
   "cell_type": "code",
   "execution_count": 9,
   "id": "c9487812-5f3d-4052-b82e-53b5e11d20cf",
   "metadata": {},
   "outputs": [],
   "source": [
    "# .loc()\n",
    "# .iloc()\n"
   ]
  },
  {
   "cell_type": "code",
   "execution_count": 10,
   "id": "e19b3fe2-70c2-4bf1-b412-a7389cf1ec92",
   "metadata": {},
   "outputs": [
    {
     "name": "stdout",
     "output_type": "stream",
     "text": [
      "0    5\n",
      "1    7\n",
      "2    8\n",
      "3    9\n",
      "4    2\n",
      "dtype: int64\n"
     ]
    }
   ],
   "source": [
    "x = pd.Series([5,7,8,9,2])\n",
    "print(x)\n"
   ]
  },
  {
   "cell_type": "code",
   "execution_count": 11,
   "id": "748b40cb-d9ad-4db4-bb88-299ca914a5f2",
   "metadata": {},
   "outputs": [
    {
     "data": {
      "text/plain": [
       "np.int64(7)"
      ]
     },
     "execution_count": 11,
     "metadata": {},
     "output_type": "execute_result"
    }
   ],
   "source": [
    "x.loc[1]"
   ]
  },
  {
   "cell_type": "code",
   "execution_count": null,
   "id": "f899373d-d22a-4373-bf83-332cb93066ab",
   "metadata": {},
   "outputs": [],
   "source": []
  },
  {
   "cell_type": "code",
   "execution_count": null,
   "id": "760da142-4d4c-4ee1-8f3e-0c1b8e891e62",
   "metadata": {},
   "outputs": [],
   "source": []
  },
  {
   "cell_type": "code",
   "execution_count": null,
   "id": "16c5bc48-1fd2-471b-aa0b-4fd6fbce9608",
   "metadata": {},
   "outputs": [],
   "source": []
  },
  {
   "cell_type": "markdown",
   "id": "f60c4ee8-2a7f-4067-8135-89b707975f26",
   "metadata": {},
   "source": [
    "### Dataframe"
   ]
  },
  {
   "cell_type": "code",
   "execution_count": 18,
   "id": "56ce21e0-7f78-41ba-88b8-e1675c9e81c1",
   "metadata": {},
   "outputs": [],
   "source": [
    "# tabular data handle garnaa ko lagi dataframe chahenchhaa. "
   ]
  },
  {
   "cell_type": "code",
   "execution_count": 19,
   "id": "2c369476-0346-4026-a070-39f21adf4534",
   "metadata": {},
   "outputs": [],
   "source": [
    "#dictionary bataa dataframe banauna sakenchhaa"
   ]
  },
  {
   "cell_type": "code",
   "execution_count": 20,
   "id": "906af85d-63c5-4a3e-8e4b-162ef46541a7",
   "metadata": {},
   "outputs": [],
   "source": [
    " #empty bracket deyo bhane dictionary banchhaa\n",
    "dis = {\n",
    "    'roll':4,  #dictionary=> key:values\n",
    "    'name':'sita',\n",
    "    'faculty':'DS'\n",
    "}"
   ]
  },
  {
   "cell_type": "code",
   "execution_count": 21,
   "id": "6d7d9e2a-a6b1-4d76-a6c4-b18b512b84eb",
   "metadata": {},
   "outputs": [],
   "source": [
    "# roll, name, faculty => column banchhaa\n",
    "# 4,sita,DS=>values"
   ]
  },
  {
   "cell_type": "code",
   "execution_count": 22,
   "id": "afd3d7d6-4bf0-4c7a-bb01-66fd20f3a2ef",
   "metadata": {},
   "outputs": [],
   "source": [
    "# dicyionay ma yeutaa set ko multiple value hunchhaa vaney list banaunu parchhaa"
   ]
  },
  {
   "cell_type": "code",
   "execution_count": 23,
   "id": "2ba933ba-bede-420e-8c74-5f11b5ee9f50",
   "metadata": {},
   "outputs": [],
   "source": [
    "dis = {\n",
    "    'roll':[4,5,7,9,12], \n",
    "    'name':['sita','c','d','e','f'],\n",
    "    'faculty':['DS','CS','DS','DS','CS']\n",
    "}"
   ]
  },
  {
   "cell_type": "code",
   "execution_count": 24,
   "id": "9dfe15c4-9c5f-4fcd-b252-c1c96d7b1eb9",
   "metadata": {},
   "outputs": [
    {
     "name": "stdout",
     "output_type": "stream",
     "text": [
      "   roll  name faculty\n",
      "0     4  sita      DS\n",
      "1     5     c      CS\n",
      "2     7     d      DS\n",
      "3     9     e      DS\n",
      "4    12     f      CS\n"
     ]
    }
   ],
   "source": [
    "df = pd.DataFrame(dis)\n",
    "print(df)"
   ]
  },
  {
   "cell_type": "code",
   "execution_count": 26,
   "id": "86cdc7e1-38bc-4cdf-9cad-e5b91e4b457e",
   "metadata": {},
   "outputs": [
    {
     "data": {
      "text/plain": [
       "pandas.core.frame.DataFrame"
      ]
     },
     "execution_count": 26,
     "metadata": {},
     "output_type": "execute_result"
    }
   ],
   "source": [
    "type(df)"
   ]
  },
  {
   "cell_type": "code",
   "execution_count": 28,
   "id": "2d2212f7-c664-457b-9ec9-9e2797803f64",
   "metadata": {},
   "outputs": [
    {
     "data": {
      "text/plain": [
       "(5, 3)"
      ]
     },
     "execution_count": 28,
     "metadata": {},
     "output_type": "execute_result"
    }
   ],
   "source": [
    "df.shape #5 row 3 columns"
   ]
  },
  {
   "cell_type": "code",
   "execution_count": 29,
   "id": "d160f597-c5e3-4b06-b38e-49c28ba6d342",
   "metadata": {},
   "outputs": [
    {
     "data": {
      "text/plain": [
       "Index(['roll', 'name', 'faculty'], dtype='object')"
      ]
     },
     "execution_count": 29,
     "metadata": {},
     "output_type": "execute_result"
    }
   ],
   "source": [
    "df.columns"
   ]
  },
  {
   "cell_type": "code",
   "execution_count": null,
   "id": "82d7c33c-1c47-490d-a214-72c89922a133",
   "metadata": {},
   "outputs": [],
   "source": [
    "data = pd.read_csv('Salary_Data.csv') #file lai load garnaa lako vayeraaa .read-csv"
   ]
  }
 ],
 "metadata": {
  "kernelspec": {
   "display_name": "Python 3 (ipykernel)",
   "language": "python",
   "name": "python3"
  },
  "language_info": {
   "codemirror_mode": {
    "name": "ipython",
    "version": 3
   },
   "file_extension": ".py",
   "mimetype": "text/x-python",
   "name": "python",
   "nbconvert_exporter": "python",
   "pygments_lexer": "ipython3",
   "version": "3.13.3"
  }
 },
 "nbformat": 4,
 "nbformat_minor": 5
}
