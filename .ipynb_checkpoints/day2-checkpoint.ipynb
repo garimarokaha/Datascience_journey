{
 "cells": [
  {
   "cell_type": "code",
   "execution_count": null,
   "id": "156ed1ce-9426-4c27-bc34-b4c726dcf048",
   "metadata": {},
   "outputs": [],
   "source": [
    "Numpy Array\n",
    "=> to make computation efficient\n",
    "=>homogeneous collection "
   ]
  },
  {
   "cell_type": "code",
   "execution_count": 1,
   "id": "6c098b0a-9687-4b44-86d6-8e5b9daa6e61",
   "metadata": {},
   "outputs": [],
   "source": [
    "#cube sodyo bhane k garne"
   ]
  },
  {
   "cell_type": "code",
   "execution_count": 2,
   "id": "169b6120-0ca6-4ebe-a1a3-4837de12a123",
   "metadata": {},
   "outputs": [],
   "source": [
    "import numpy as np"
   ]
  },
  {
   "cell_type": "code",
   "execution_count": 3,
   "id": "ba5e79b7-3809-4527-ac05-2cb2b618ae58",
   "metadata": {},
   "outputs": [
    {
     "name": "stdout",
     "output_type": "stream",
     "text": [
      "[7 6 8 3]\n"
     ]
    }
   ],
   "source": [
    "#broadcasting\n",
    "x = np.array([5,4,6,1]) \n",
    "y =np.array([2,1,3,4])\n",
    "\n",
    "z = x+2\n",
    "print(z)"
   ]
  },
  {
   "cell_type": "code",
   "execution_count": null,
   "id": "1db70b65-e891-4bb7-85cf-a0c2c46c2259",
   "metadata": {},
   "outputs": [],
   "source": [
    "#broadcasting\n",
    "[5,4,6,1]+[2,2,2,2,] garchhaa hamley +2 gardaa pani"
   ]
  },
  {
   "cell_type": "code",
   "execution_count": 13,
   "id": "5b53a8f9-bf0d-47c1-bb41-482b99a16ab5",
   "metadata": {},
   "outputs": [
    {
     "name": "stdout",
     "output_type": "stream",
     "text": [
      "[25 16 36  1]\n"
     ]
    }
   ],
   "source": [
    "#power ko lagi\n",
    "x = np.array([5,4,6,1])\n",
    "xpower = x **2\n",
    "print(xpower)"
   ]
  },
  {
   "cell_type": "code",
   "execution_count": 14,
   "id": "b6666cc6-c4b6-43e2-a95c-a0ec8283dc31",
   "metadata": {},
   "outputs": [
    {
     "name": "stdout",
     "output_type": "stream",
     "text": [
      "[25 16 36  1]\n"
     ]
    }
   ],
   "source": [
    "x = np.array([5,4,6,1])\n",
    "xpower = np.power(x,2)\n",
    "print(xpower)"
   ]
  },
  {
   "cell_type": "code",
   "execution_count": 16,
   "id": "6b123337-15f6-4d95-a4cf-a7cd8989f78d",
   "metadata": {},
   "outputs": [
    {
     "name": "stdout",
     "output_type": "stream",
     "text": [
      "[7 6 8 3]\n"
     ]
    }
   ],
   "source": [
    "x = np.array([5,4,6,1])\n",
    "z = np.add(x,2) #z = x+2\n",
    "\n",
    "#code ma kasari kaam garcha?\n",
    "#[5,4,6,1]+[2,2,2,2]\n",
    "print(z)"
   ]
  },
  {
   "cell_type": "code",
   "execution_count": null,
   "id": "5cf0c530-2dea-4f79-acba-e409e0ea91d1",
   "metadata": {},
   "outputs": [],
   "source": [
    "#task\n",
    "x = np.array([5,6,2,7])\n",
    "#kehi element add garnaa parey k garne?\n"
   ]
  },
  {
   "cell_type": "code",
   "execution_count": 22,
   "id": "131278b3-d4bd-40dc-966a-d7995fb327e2",
   "metadata": {},
   "outputs": [
    {
     "name": "stdout",
     "output_type": "stream",
     "text": [
      "[5 6 2 7 9]\n"
     ]
    }
   ],
   "source": [
    "#1.[5,6,2,7,9]\n",
    "#2.[5,9,6,2,7]\n",
    "#yesto chaiyooo\n",
    "\n",
    "x = np.array([5,6,2,7])\n",
    "x = np.append(x,9)\n",
    "#append=> add at the end \n",
    "\n",
    "print(x)"
   ]
  },
  {
   "cell_type": "code",
   "execution_count": 25,
   "id": "aae7d3ec-4fd2-43d0-a26f-9513394d2f45",
   "metadata": {},
   "outputs": [
    {
     "name": "stdout",
     "output_type": "stream",
     "text": [
      "[5 9 6 2 7]\n"
     ]
    }
   ],
   "source": [
    "x = np.array([5,6,2,7])\n",
    "#insert : syntax np.insert(array, where to insert, value to be inserted)\n",
    "x =np.insert(x,1,9)\n",
    "print(x)"
   ]
  },
  {
   "cell_type": "code",
   "execution_count": null,
   "id": "742350fe-6983-4866-aa82-794c66d7f7f5",
   "metadata": {},
   "outputs": [],
   "source": []
  },
  {
   "cell_type": "code",
   "execution_count": 4,
   "id": "249df5db-97a8-4787-906b-5deeef4367bf",
   "metadata": {},
   "outputs": [
    {
     "name": "stdout",
     "output_type": "stream",
     "text": [
      "(4,)\n"
     ]
    }
   ],
   "source": [
    "#Reshaping\n",
    "print(x.shape)"
   ]
  },
  {
   "cell_type": "code",
   "execution_count": 5,
   "id": "80bae0de-20a1-460c-834e-c1d6c332512f",
   "metadata": {},
   "outputs": [
    {
     "data": {
      "text/plain": [
       "array([[5, 4],\n",
       "       [6, 1]])"
      ]
     },
     "execution_count": 5,
     "metadata": {},
     "output_type": "execute_result"
    }
   ],
   "source": [
    "#reshaping\n",
    "x.reshape(2,2)"
   ]
  },
  {
   "cell_type": "code",
   "execution_count": 6,
   "id": "289bd8b8-a0fe-4c91-9509-cf17de623075",
   "metadata": {},
   "outputs": [
    {
     "ename": "ValueError",
     "evalue": "cannot reshape array of size 4 into shape (2,3)",
     "output_type": "error",
     "traceback": [
      "\u001b[31m---------------------------------------------------------------------------\u001b[39m",
      "\u001b[31mValueError\u001b[39m                                Traceback (most recent call last)",
      "\u001b[36mCell\u001b[39m\u001b[36m \u001b[39m\u001b[32mIn[6]\u001b[39m\u001b[32m, line 2\u001b[39m\n\u001b[32m      1\u001b[39m \u001b[38;5;66;03m#reshaping\u001b[39;00m\n\u001b[32m----> \u001b[39m\u001b[32m2\u001b[39m \u001b[43mx\u001b[49m\u001b[43m.\u001b[49m\u001b[43mreshape\u001b[49m\u001b[43m(\u001b[49m\u001b[32;43m2\u001b[39;49m\u001b[43m,\u001b[49m\u001b[32;43m3\u001b[39;49m\u001b[43m)\u001b[49m\n",
      "\u001b[31mValueError\u001b[39m: cannot reshape array of size 4 into shape (2,3)"
     ]
    }
   ],
   "source": [
    "#reshaping\n",
    "x.reshape(2,3)\n",
    "#mathi 4 ottaaa element cha aaba 2,2, ko matrix banauna ta sakenchha but 2,3 ko matarix banauna sakedena tesko lagi \n",
    "6 otaaa element chaihencha"
   ]
  },
  {
   "cell_type": "code",
   "execution_count": 7,
   "id": "4707f16d-b441-45ac-b11d-32491516f046",
   "metadata": {},
   "outputs": [
    {
     "name": "stdout",
     "output_type": "stream",
     "text": [
      "(6,)\n"
     ]
    }
   ],
   "source": [
    "a = np.array([4,6,2,7,9,12])\n",
    "print(a.shape)"
   ]
  },
  {
   "cell_type": "code",
   "execution_count": 8,
   "id": "15a73432-d631-43a8-9fc3-2c5ca61e5145",
   "metadata": {},
   "outputs": [],
   "source": [
    "# yehaaa reshape garna ko lagi kun kun banchhaa vanda\n",
    "# (3,2)\n",
    "# (2,3)\n",
    "# (1,6)\n",
    "# (6,1)"
   ]
  },
  {
   "cell_type": "code",
   "execution_count": 9,
   "id": "b40691ed-ec6d-4c4c-8b5f-b5ff13894709",
   "metadata": {},
   "outputs": [
    {
     "name": "stdout",
     "output_type": "stream",
     "text": [
      "[[ 4  6  2  7  9 12]]\n"
     ]
    }
   ],
   "source": [
    "print(a.reshape(1,6)) #row matrix\n",
    "#yo ra muthi koma farak cha kinaki yo 1 dimension ko ho bhane mathi ko multi"
   ]
  },
  {
   "cell_type": "code",
   "execution_count": 10,
   "id": "b24e95c7-f794-4d73-9be7-9febcc170920",
   "metadata": {},
   "outputs": [
    {
     "name": "stdout",
     "output_type": "stream",
     "text": [
      "[[ 4]\n",
      " [ 6]\n",
      " [ 2]\n",
      " [ 7]\n",
      " [ 9]\n",
      " [12]]\n"
     ]
    }
   ],
   "source": [
    "print(a.reshape(6,1)) #column matrix"
   ]
  },
  {
   "cell_type": "code",
   "execution_count": 11,
   "id": "0404265c-4570-410f-a8cf-7fd020a9c07a",
   "metadata": {},
   "outputs": [],
   "source": [
    "# numpy use gaeraa random number generate garna ko lagi yo function use hunchhaa\n",
    "# #numpy array bandenchha"
   ]
  },
  {
   "cell_type": "code",
   "execution_count": null,
   "id": "94d29ea4-a65e-4d7e-8188-2c02c642597f",
   "metadata": {},
   "outputs": [],
   "source": [
    "### -np.zeros()\n",
    "### -np.ones()\n",
    "### -np.full()\n",
    "### -np.arrange()\n",
    "### -np.linspace()\n",
    "-np.random.random()\n",
    "-np.random.randint()\n",
    "-np.random.uniform()"
   ]
  },
  {
   "cell_type": "code",
   "execution_count": 12,
   "id": "40269a2c-e50a-4505-9396-84495f0c08e3",
   "metadata": {},
   "outputs": [
    {
     "name": "stdout",
     "output_type": "stream",
     "text": [
      "[0. 0. 0. 0. 0.]\n"
     ]
    }
   ],
   "source": [
    "x = np.zeros(5) #sabei 0 element vako number generate vaidenchhaa\n",
    "print(x)"
   ]
  },
  {
   "cell_type": "code",
   "execution_count": 27,
   "id": "ab42dc79-08d0-450c-8841-c74901c9e5cd",
   "metadata": {},
   "outputs": [
    {
     "name": "stdout",
     "output_type": "stream",
     "text": [
      "[[0. 0. 0. 0. 0.]\n",
      " [0. 0. 0. 0. 0.]]\n"
     ]
    }
   ],
   "source": [
    "x = np.zeros((2,5))# 2 rows 5 columns\n",
    "print(x)"
   ]
  },
  {
   "cell_type": "code",
   "execution_count": 28,
   "id": "a59b066a-89cb-49bb-ad2e-538923e9528e",
   "metadata": {},
   "outputs": [
    {
     "name": "stdout",
     "output_type": "stream",
     "text": [
      "[[0. 0. 0. 0. 0.]\n",
      " [0. 0. 0. 0. 0.]]\n"
     ]
    }
   ],
   "source": [
    "#another way\n",
    "x = np.zeros(10).reshape(2,5)\n",
    "print(x)"
   ]
  },
  {
   "cell_type": "code",
   "execution_count": 29,
   "id": "99f35620-e20a-4f5a-ad64-ddd2615d9b9b",
   "metadata": {},
   "outputs": [
    {
     "name": "stdout",
     "output_type": "stream",
     "text": [
      "[1. 1. 1. 1. 1.]\n"
     ]
    }
   ],
   "source": [
    "y = np.ones(5)\n",
    "print(y)"
   ]
  },
  {
   "cell_type": "code",
   "execution_count": 31,
   "id": "1458e435-b007-490d-adbb-6241c6840759",
   "metadata": {},
   "outputs": [
    {
     "name": "stdout",
     "output_type": "stream",
     "text": [
      "[[1. 1. 1. 1. 1.]\n",
      " [1. 1. 1. 1. 1.]]\n"
     ]
    }
   ],
   "source": [
    "y = np.ones((2,5))# 2 rows 5 columns\n",
    "print(y)"
   ]
  },
  {
   "cell_type": "code",
   "execution_count": 35,
   "id": "ae2607b2-dd03-44f5-a25b-8d6f80f34f03",
   "metadata": {},
   "outputs": [
    {
     "name": "stdout",
     "output_type": "stream",
     "text": [
      "[5 5 5 5 5 5 5]\n"
     ]
    }
   ],
   "source": [
    "#np.full()\n",
    "#=> vitraa ko element lai repeat gardenchha\n",
    "z = np.full(7, 5)# 7 choti 5 vanne element lai print garaideney\n",
    "print(z)"
   ]
  },
  {
   "cell_type": "code",
   "execution_count": 37,
   "id": "e8328a5f-108f-488b-ac00-cfa597e2b35d",
   "metadata": {},
   "outputs": [
    {
     "name": "stdout",
     "output_type": "stream",
     "text": [
      "[[7 7 7]\n",
      " [7 7 7]]\n"
     ]
    }
   ],
   "source": [
    "z = np.full((2,3),7)#2 row 3 column and the element is 7\n",
    "print(z)"
   ]
  },
  {
   "cell_type": "code",
   "execution_count": 40,
   "id": "8ae0b6bd-f94c-4099-bb06-e4a0bea0e3d1",
   "metadata": {},
   "outputs": [
    {
     "name": "stdout",
     "output_type": "stream",
     "text": [
      "[2 4 6 8]\n"
     ]
    }
   ],
   "source": [
    "#np.arrange()\n",
    "#np.linspace()\n",
    "\n",
    "#range(start index, stop index, step)\n",
    "#=> arrange range sanga similar cha\n",
    "\n",
    "x = np.arange(2,10,2) #arrange ko syntax : np.arrange(start,stop,step)\n",
    "print(x)"
   ]
  },
  {
   "cell_type": "code",
   "execution_count": 41,
   "id": "91800855-a508-414f-8a0e-8017a8539a6a",
   "metadata": {},
   "outputs": [
    {
     "name": "stdout",
     "output_type": "stream",
     "text": [
      "[[2 4]\n",
      " [6 8]]\n"
     ]
    }
   ],
   "source": [
    "\n",
    "x = np.arange(2,10,2).reshape(2,2) \n",
    "print(x)"
   ]
  },
  {
   "cell_type": "code",
   "execution_count": 42,
   "id": "8e42c5da-d75b-4b29-affb-3a39d196bd64",
   "metadata": {},
   "outputs": [
    {
     "name": "stdout",
     "output_type": "stream",
     "text": [
      "[ 1.    3.25  5.5   7.75 10.  ]\n"
     ]
    }
   ],
   "source": [
    "#linsapce\n",
    " #linspace lo syntax: np.linspace(start,stop, how many numbers?)\n",
    "x=np.linspace(1,10,5)\n",
    "print(x)"
   ]
  },
  {
   "cell_type": "code",
   "execution_count": 44,
   "id": "63e25a10-afad-4ea7-ad4d-f0048b5e1a9c",
   "metadata": {},
   "outputs": [
    {
     "name": "stdout",
     "output_type": "stream",
     "text": [
      "[ 1.          1.64285714  2.28571429  2.92857143  3.57142857  4.21428571\n",
      "  4.85714286  5.5         6.14285714  6.78571429  7.42857143  8.07142857\n",
      "  8.71428571  9.35714286 10.        ]\n"
     ]
    }
   ],
   "source": [
    "x = np.linspace(1,10,15) # 15 ottaa number generate hune vo start from 1 and end to 10\n",
    "print(x)"
   ]
  },
  {
   "cell_type": "code",
   "execution_count": 45,
   "id": "10c76072-24e4-46be-9bfa-30067c7e48ef",
   "metadata": {},
   "outputs": [
    {
     "name": "stdout",
     "output_type": "stream",
     "text": [
      "[0.1662038  0.14035899 0.11846626 0.1554851  0.98811067 0.24663689]\n"
     ]
    }
   ],
   "source": [
    "#np.random.random()\n",
    "# => random number generate gardencha between 0 to 1\n",
    "x = np.random.random(6)\n",
    "#geneartes random number between 0 -1\n",
    "print(x)"
   ]
  },
  {
   "cell_type": "code",
   "execution_count": 46,
   "id": "c5f00ef3-eb75-4266-a12d-da851e2bf1e0",
   "metadata": {},
   "outputs": [
    {
     "name": "stdout",
     "output_type": "stream",
     "text": [
      "[[0.52552826 0.22977629]\n",
      " [0.77938849 0.49852419]\n",
      " [0.23244782 0.15426076]\n",
      " [0.9821475  0.95906098]\n",
      " [0.58699154 0.41408822]]\n"
     ]
    }
   ],
   "source": [
    "x = np.random.random((5,2))# 5 rows 2 columns\n",
    "print(x)"
   ]
  },
  {
   "cell_type": "code",
   "execution_count": 47,
   "id": "5c67bfe4-336f-4c48-975e-d46958a075c4",
   "metadata": {},
   "outputs": [
    {
     "name": "stdout",
     "output_type": "stream",
     "text": [
      "[4 6 6 2 2]\n"
     ]
    }
   ],
   "source": [
    "#np.random.randint()\n",
    "#=> randomly number generate hunchhaa\n",
    "\n",
    "y=np.random.randint(0,10,5) # o to 10 sammaa ko number 5 otaaa randomly generate gardenchha\n",
    "print(y)"
   ]
  },
  {
   "cell_type": "code",
   "execution_count": 48,
   "id": "c4a69834-02a0-4b8f-a55c-2cc4895e3b34",
   "metadata": {},
   "outputs": [
    {
     "name": "stdout",
     "output_type": "stream",
     "text": [
      "[25  8 14 54 16 31 83 68 50 16 84 84 62 91  0]\n"
     ]
    }
   ],
   "source": [
    "y=np.random.randint(0,100,15)\n",
    "print(y)"
   ]
  },
  {
   "cell_type": "code",
   "execution_count": 52,
   "id": "5b4de34e-75a0-420c-81ae-9604b630dbb3",
   "metadata": {},
   "outputs": [
    {
     "name": "stdout",
     "output_type": "stream",
     "text": [
      "[2468 5030 4960 ... 3641 8748 1560]\n"
     ]
    }
   ],
   "source": [
    "y=np.random.randint(0,10000,1105) #range badi vako vayeraa deyena\n",
    "print(y)"
   ]
  },
  {
   "cell_type": "code",
   "execution_count": 49,
   "id": "43715329-1551-4d6d-a013-ff084f139a7f",
   "metadata": {},
   "outputs": [],
   "source": [
    "#yemsaa 2 dimension chaiyee reshape garnu parchhaa"
   ]
  },
  {
   "cell_type": "code",
   "execution_count": 50,
   "id": "6d306622-3177-40d8-a8d4-a89c6ecb98f2",
   "metadata": {},
   "outputs": [
    {
     "name": "stdout",
     "output_type": "stream",
     "text": [
      "[0.77974674 2.06958265 2.47255811 2.87790139 1.30886532]\n"
     ]
    }
   ],
   "source": [
    "#random.uniform()\n",
    "# => floating point haru generate gardchhaa randomly\n",
    "z = np.random.uniform(0,10,5)\n",
    "print(z)"
   ]
  },
  {
   "cell_type": "code",
   "execution_count": null,
   "id": "2bf17c25-3682-406d-8b6f-c6a03e2d1eae",
   "metadata": {},
   "outputs": [],
   "source": [
    "\n",
    "\n"
   ]
  },
  {
   "cell_type": "markdown",
   "id": "1019a94c-7223-4c8e-ba16-30d9b60b33f3",
   "metadata": {},
   "source": [
    "### Pandas"
   ]
  },
  {
   "cell_type": "markdown",
   "id": "2a3b8f83-352d-4186-87db-b03ef4b54824",
   "metadata": {},
   "source": [
    "### pandas\n",
    "### =>tabular format ma hunchhaa dataa, model fit gardaa.\n",
    "### => so pandas ley row,column ko data operate garnaa sakchhaa\n",
    "### datastructure of pandas. 1) series\n",
    "###                          2) DataFrame"
   ]
  },
  {
   "cell_type": "code",
   "execution_count": 53,
   "id": "a66bb8a2-e8cf-4227-a200-6300ad808381",
   "metadata": {},
   "outputs": [
    {
     "name": "stdout",
     "output_type": "stream",
     "text": [
      "Requirement already satisfied: pandas in c:\\users\\lenovo\\appdata\\local\\programs\\python\\python313\\lib\\site-packages (2.2.3)\n",
      "Requirement already satisfied: numpy>=1.26.0 in c:\\users\\lenovo\\appdata\\local\\programs\\python\\python313\\lib\\site-packages (from pandas) (2.2.5)\n",
      "Requirement already satisfied: python-dateutil>=2.8.2 in c:\\users\\lenovo\\appdata\\local\\programs\\python\\python313\\lib\\site-packages (from pandas) (2.9.0.post0)\n",
      "Requirement already satisfied: pytz>=2020.1 in c:\\users\\lenovo\\appdata\\local\\programs\\python\\python313\\lib\\site-packages (from pandas) (2025.2)\n",
      "Requirement already satisfied: tzdata>=2022.7 in c:\\users\\lenovo\\appdata\\local\\programs\\python\\python313\\lib\\site-packages (from pandas) (2025.2)\n",
      "Requirement already satisfied: six>=1.5 in c:\\users\\lenovo\\appdata\\local\\programs\\python\\python313\\lib\\site-packages (from python-dateutil>=2.8.2->pandas) (1.17.0)\n",
      "Note: you may need to restart the kernel to use updated packages.\n"
     ]
    }
   ],
   "source": [
    "pip install pandas"
   ]
  },
  {
   "cell_type": "code",
   "execution_count": 54,
   "id": "24e87d70-9f4f-4b2f-99ba-5ac2748c5b76",
   "metadata": {},
   "outputs": [],
   "source": [
    "import pandas as pd\n"
   ]
  },
  {
   "cell_type": "markdown",
   "id": "2a7ca4ef-1264-4838-94ee-6652c63fbcec",
   "metadata": {},
   "source": [
    "### Series"
   ]
  },
  {
   "cell_type": "code",
   "execution_count": 57,
   "id": "42494672-509e-43fc-828b-8f9f31bd0262",
   "metadata": {},
   "outputs": [
    {
     "name": "stdout",
     "output_type": "stream",
     "text": [
      "0    5\n",
      "1    7\n",
      "2    8\n",
      "3    9\n",
      "4    2\n",
      "dtype: int64\n"
     ]
    }
   ],
   "source": [
    "x = pd.Series([5,7,8,9,2])\n",
    "print(x)"
   ]
  },
  {
   "cell_type": "code",
   "execution_count": 59,
   "id": "9537b74f-281b-47cb-9ca6-f2b0194dcb8e",
   "metadata": {},
   "outputs": [
    {
     "name": "stdout",
     "output_type": "stream",
     "text": [
      "a    5\n",
      "b    7\n",
      "c    8\n",
      "d    9\n",
      "e    2\n",
      "dtype: int64\n"
     ]
    }
   ],
   "source": [
    "x = pd.Series([5,7,8,9,2],index=['a','b','c','d','e'])#aafei index pani dena melchha series ma\n",
    "print(x)"
   ]
  },
  {
   "cell_type": "code",
   "execution_count": 60,
   "id": "adea230b-4aa1-48a2-a179-f53de387f1d1",
   "metadata": {},
   "outputs": [
    {
     "name": "stdout",
     "output_type": "stream",
     "text": [
      "100    5\n",
      "101    7\n",
      "102    8\n",
      "103    9\n",
      "104    2\n",
      "dtype: int64\n"
     ]
    }
   ],
   "source": [
    "#range ma ni denaa melchhaaa index lai\n",
    "\n",
    "\n",
    "x = pd.Series([5, 7, 8, 9, 2], index=range(100, 105))\n",
    "print(x)\n"
   ]
  },
  {
   "cell_type": "code",
   "execution_count": 58,
   "id": "14f72605-69ce-45f0-ad92-878a43fefe6b",
   "metadata": {},
   "outputs": [
    {
     "data": {
      "text/plain": [
       "np.int64(8)"
      ]
     },
     "execution_count": 58,
     "metadata": {},
     "output_type": "execute_result"
    }
   ],
   "source": [
    "x[2] "
   ]
  },
  {
   "cell_type": "code",
   "execution_count": null,
   "id": "5aec4b2b-2143-4dca-9e80-352e784b2cd3",
   "metadata": {},
   "outputs": [],
   "source": [
    "#task\n",
    "1) loc\n",
    "2) iloc()\n",
    "hint: index aafei define pani garnaa sakenchhaa series ma "
   ]
  }
 ],
 "metadata": {
  "kernelspec": {
   "display_name": "Python 3 (ipykernel)",
   "language": "python",
   "name": "python3"
  },
  "language_info": {
   "codemirror_mode": {
    "name": "ipython",
    "version": 3
   },
   "file_extension": ".py",
   "mimetype": "text/x-python",
   "name": "python",
   "nbconvert_exporter": "python",
   "pygments_lexer": "ipython3",
   "version": "3.13.3"
  }
 },
 "nbformat": 4,
 "nbformat_minor": 5
}
