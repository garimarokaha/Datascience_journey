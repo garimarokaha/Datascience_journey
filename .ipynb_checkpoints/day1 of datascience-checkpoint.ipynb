{
 "cells": [
  {
   "cell_type": "code",
   "execution_count": null,
   "id": "20642694-5a29-47d6-a042-eff19b354987",
   "metadata": {},
   "outputs": [],
   "source": [
    "#Attributes\n",
    ".shape\n",
    ".size\n",
    ".ndim\n",
    ".dtype"
   ]
  },
  {
   "cell_type": "code",
   "execution_count": 1,
   "id": "21732886-1831-4cda-ae7a-789e138a92bf",
   "metadata": {},
   "outputs": [],
   "source": [
    "import numpy as np"
   ]
  },
  {
   "cell_type": "code",
   "execution_count": 5,
   "id": "dd6b5691-5ec0-44b8-86d0-a53448229f3f",
   "metadata": {},
   "outputs": [
    {
     "name": "stdout",
     "output_type": "stream",
     "text": [
      "[ 5  7  8  2  9 15]\n"
     ]
    }
   ],
   "source": [
    "x = np.array([5,7,8,2,9,15])\n",
    "print(x)"
   ]
  },
  {
   "cell_type": "code",
   "execution_count": 6,
   "id": "420c3370-e4ed-47da-b886-5745950e9ab0",
   "metadata": {},
   "outputs": [
    {
     "name": "stdout",
     "output_type": "stream",
     "text": [
      "(6,)\n"
     ]
    }
   ],
   "source": [
    "#shape \n",
    "#no of rows and columns denchhaa shape le\n",
    "print(x.shape)"
   ]
  },
  {
   "cell_type": "code",
   "execution_count": 7,
   "id": "f43e84f3-eb49-4b97-8f37-81a575d66bf2",
   "metadata": {},
   "outputs": [
    {
     "name": "stdout",
     "output_type": "stream",
     "text": [
      "[[5 4 3]\n",
      " [9 7 6]]\n"
     ]
    }
   ],
   "source": [
    "mat = np.array([[5, 4, 3],[ 9, 7, 6]])\n",
    "print(mat)"
   ]
  },
  {
   "cell_type": "code",
   "execution_count": 8,
   "id": "1017146a-589f-400e-b68c-4ca61868c420",
   "metadata": {},
   "outputs": [
    {
     "name": "stdout",
     "output_type": "stream",
     "text": [
      "(2, 3)\n"
     ]
    }
   ],
   "source": [
    "print(mat.shape)"
   ]
  },
  {
   "cell_type": "code",
   "execution_count": 9,
   "id": "f709b023-0333-49e0-bb81-113684986dbb",
   "metadata": {},
   "outputs": [
    {
     "name": "stdout",
     "output_type": "stream",
     "text": [
      "6\n"
     ]
    }
   ],
   "source": [
    "#size\n",
    "#size le no of elements denchhaa 1d ma\n",
    "#2d ma size le no of elements denchhaa\n",
    "print(x.size)"
   ]
  },
  {
   "cell_type": "code",
   "execution_count": 10,
   "id": "ed94dd2c-4f98-4f57-b524-10275cf647ed",
   "metadata": {},
   "outputs": [
    {
     "name": "stdout",
     "output_type": "stream",
     "text": [
      "(2, 3)\n"
     ]
    }
   ],
   "source": [
    "print(mat.shape)"
   ]
  },
  {
   "cell_type": "code",
   "execution_count": 11,
   "id": "9571a7d3-1d5e-4092-9c83-c4f04a02aa81",
   "metadata": {},
   "outputs": [
    {
     "name": "stdout",
     "output_type": "stream",
     "text": [
      "6\n"
     ]
    }
   ],
   "source": [
    "print(x.size)"
   ]
  },
  {
   "cell_type": "code",
   "execution_count": 12,
   "id": "f1ffc9d6-6841-4c4f-aa12-201c69c6351d",
   "metadata": {},
   "outputs": [
    {
     "name": "stdout",
     "output_type": "stream",
     "text": [
      "2\n"
     ]
    }
   ],
   "source": [
    "#ndim \n",
    "#no of dimension denchhaa ndim le\n",
    "print(mat.ndim)"
   ]
  },
  {
   "cell_type": "code",
   "execution_count": 17,
   "id": "ce93dc38-de47-4279-83d8-a114ae26d959",
   "metadata": {},
   "outputs": [
    {
     "name": "stdout",
     "output_type": "stream",
     "text": [
      "int64\n"
     ]
    }
   ],
   "source": [
    "#dtype\n",
    "#elements ko type vandenaaa(data type vandencha)\n",
    "print(x.dtype)"
   ]
  },
  {
   "cell_type": "code",
   "execution_count": 14,
   "id": "aaee191a-0db2-44b8-922b-3893a22356c2",
   "metadata": {},
   "outputs": [],
   "source": [
    "# int 64 ko meaning suppose 5 vaye\n",
    "# 5 lai binary ma convert gardaaa 101 hunchhaa ra yo 101 ta 3 bit ko vayo now yesko aagadi 62 ottaa 0 add garchhaa "
   ]
  },
  {
   "cell_type": "code",
   "execution_count": 20,
   "id": "4026b0cf-bddb-410b-8d49-337aaef57bee",
   "metadata": {},
   "outputs": [
    {
     "ename": "ValueError",
     "evalue": "setting an array element with a sequence. The requested array has an inhomogeneous shape after 3 dimensions. The detected shape was (1, 3, 2) + inhomogeneous part.",
     "output_type": "error",
     "traceback": [
      "\u001b[31m---------------------------------------------------------------------------\u001b[39m",
      "\u001b[31mValueError\u001b[39m                                Traceback (most recent call last)",
      "\u001b[36mCell\u001b[39m\u001b[36m \u001b[39m\u001b[32mIn[20]\u001b[39m\u001b[32m, line 2\u001b[39m\n\u001b[32m      1\u001b[39m \u001b[38;5;66;03m#3 dimension ma\u001b[39;00m\n\u001b[32m----> \u001b[39m\u001b[32m2\u001b[39m matrix = \u001b[43mnp\u001b[49m\u001b[43m.\u001b[49m\u001b[43marray\u001b[49m\u001b[43m(\u001b[49m\u001b[43m[\u001b[49m\u001b[43m[\u001b[49m\u001b[43m[\u001b[49m\u001b[32;43m2\u001b[39;49m\u001b[43m,\u001b[49m\u001b[32;43m4\u001b[39;49m\u001b[43m]\u001b[49m\u001b[43m,\u001b[49m\u001b[43m[\u001b[49m\u001b[32;43m5\u001b[39;49m\u001b[43m,\u001b[49m\u001b[32;43m2\u001b[39;49m\u001b[43m]\u001b[49m\u001b[43m,\u001b[49m\u001b[43m[\u001b[49m\u001b[43m[\u001b[49m\u001b[32;43m7\u001b[39;49m\u001b[43m,\u001b[49m\u001b[32;43m5\u001b[39;49m\u001b[43m]\u001b[49m\u001b[43m,\u001b[49m\u001b[43m[\u001b[49m\u001b[32;43m1\u001b[39;49m\u001b[43m,\u001b[49m\u001b[32;43m9\u001b[39;49m\u001b[43m]\u001b[49m\u001b[43m]\u001b[49m\u001b[43m]\u001b[49m\u001b[43m]\u001b[49m\u001b[43m)\u001b[49m\n\u001b[32m      3\u001b[39m \u001b[38;5;28mprint\u001b[39m(matrix)\n",
      "\u001b[31mValueError\u001b[39m: setting an array element with a sequence. The requested array has an inhomogeneous shape after 3 dimensions. The detected shape was (1, 3, 2) + inhomogeneous part."
     ]
    }
   ],
   "source": [
    "#3 dimension ma\n",
    "matrix = np.array([[[2,4],[5,2],[[7,5],[1,9]]]])\n",
    "print(matrix)"
   ]
  },
  {
   "cell_type": "code",
   "execution_count": null,
   "id": "42cc60d3-df28-4df5-966e-a8a20db4d0fc",
   "metadata": {},
   "outputs": [],
   "source": [
    "#Slicing/Indexing"
   ]
  },
  {
   "cell_type": "code",
   "execution_count": 21,
   "id": "eaa2530c-7761-41e8-b7ae-bde9de5580ce",
   "metadata": {},
   "outputs": [
    {
     "name": "stdout",
     "output_type": "stream",
     "text": [
      "[ 5  7  8  2  9 15]\n"
     ]
    }
   ],
   "source": [
    "#indexing(starts from 0)\n",
    "#particular element matraa chaiyo bhane\n",
    "x = np.array([5,7,8,2,9,15])\n",
    "print(x)"
   ]
  },
  {
   "cell_type": "code",
   "execution_count": 22,
   "id": "89cfd397-18fc-47b7-844c-a025feb20853",
   "metadata": {},
   "outputs": [
    {
     "name": "stdout",
     "output_type": "stream",
     "text": [
      "8\n"
     ]
    }
   ],
   "source": [
    "print(x[2])"
   ]
  },
  {
   "cell_type": "code",
   "execution_count": 23,
   "id": "1f2a18d3-4107-47fc-a651-03e41aff43a0",
   "metadata": {},
   "outputs": [
    {
     "name": "stdout",
     "output_type": "stream",
     "text": [
      "15\n"
     ]
    }
   ],
   "source": [
    "#last ko element ko lagi -1 bata start\n",
    "print(x[-1])\n"
   ]
  },
  {
   "cell_type": "code",
   "execution_count": null,
   "id": "3d1d1339-340e-419b-aa6e-bb3457340cb6",
   "metadata": {},
   "outputs": [],
   "source": []
  },
  {
   "cell_type": "code",
   "execution_count": 25,
   "id": "4c2dd39b-5fe4-45d5-808a-741acd1253c0",
   "metadata": {},
   "outputs": [
    {
     "name": "stdout",
     "output_type": "stream",
     "text": [
      "[5 7 8]\n"
     ]
    }
   ],
   "source": [
    "#slicing\n",
    "#sabei elements chaoyenaa array ko kunnei part matraa chaiyo bahne slicing garna sakenchhaa\n",
    "\n",
    "#syntax:x[start index: stop index]\n",
    "x =  np.array([5,7,8,2,9,15])\n",
    "print(x[0:3])"
   ]
  },
  {
   "cell_type": "code",
   "execution_count": 26,
   "id": "3d66d4fb-1aba-4987-a849-5fae2e21df49",
   "metadata": {},
   "outputs": [
    {
     "name": "stdout",
     "output_type": "stream",
     "text": [
      "[7 8 2 9]\n"
     ]
    }
   ],
   "source": [
    "print(x[1:5])"
   ]
  },
  {
   "cell_type": "code",
   "execution_count": 30,
   "id": "5dfa9872-5024-4a28-81b4-10745ca5b86f",
   "metadata": {},
   "outputs": [
    {
     "ename": "SyntaxError",
     "evalue": "invalid syntax (684358085.py, line 1)",
     "output_type": "error",
     "traceback": [
      "  \u001b[36mCell\u001b[39m\u001b[36m \u001b[39m\u001b[32mIn[30]\u001b[39m\u001b[32m, line 1\u001b[39m\n\u001b[31m    \u001b[39m\u001b[31mprint(x(1:))\u001b[39m\n             ^\n\u001b[31mSyntaxError\u001b[39m\u001b[31m:\u001b[39m invalid syntax\n"
     ]
    }
   ],
   "source": [
    "print(x(1:))\n",
    "# #stop index deyena bhane 7829\n"
   ]
  },
  {
   "cell_type": "code",
   "execution_count": 31,
   "id": "3c704f46-7099-4354-851e-448b5a3d747f",
   "metadata": {},
   "outputs": [],
   "source": [
    "#syntax : x[startindex : stopindex :step]# by default step is 1"
   ]
  },
  {
   "cell_type": "code",
   "execution_count": null,
   "id": "67b7fecf-daec-4054-a4cc-0220c203a559",
   "metadata": {},
   "outputs": [],
   "source": []
  },
  {
   "cell_type": "code",
   "execution_count": 32,
   "id": "971d4e24-397c-4217-8751-5a080a022bb5",
   "metadata": {},
   "outputs": [
    {
     "name": "stdout",
     "output_type": "stream",
     "text": [
      "[5 8 9]\n"
     ]
    }
   ],
   "source": [
    "x = np.array([5,7,8,2,9,15])\n",
    "print(x[:5 :2])"
   ]
  },
  {
   "cell_type": "code",
   "execution_count": 33,
   "id": "94045ea4-e33b-417b-9792-6045b0a47431",
   "metadata": {},
   "outputs": [
    {
     "data": {
      "text/plain": [
       "array([ 5,  7,  8,  2,  9, 15])"
      ]
     },
     "execution_count": 33,
     "metadata": {},
     "output_type": "execute_result"
    }
   ],
   "source": [
    "x[::]"
   ]
  },
  {
   "cell_type": "code",
   "execution_count": 38,
   "id": "54c90912-3d9e-4f30-8c06-113c5130a71a",
   "metadata": {},
   "outputs": [
    {
     "data": {
      "text/plain": [
       "array([15,  9,  2,  8,  7,  5])"
      ]
     },
     "execution_count": 38,
     "metadata": {},
     "output_type": "execute_result"
    }
   ],
   "source": [
    "x[::-1]"
   ]
  },
  {
   "cell_type": "code",
   "execution_count": 39,
   "id": "c3e24d48-0d0e-40d7-ab32-79a44bb061c0",
   "metadata": {},
   "outputs": [
    {
     "data": {
      "text/plain": [
       "array([7, 8, 2, 9])"
      ]
     },
     "execution_count": 39,
     "metadata": {},
     "output_type": "execute_result"
    }
   ],
   "source": [
    "x[1: -1]"
   ]
  },
  {
   "cell_type": "code",
   "execution_count": 41,
   "id": "29ce3413-82cd-4d12-b2b7-560d36abd5c6",
   "metadata": {},
   "outputs": [
    {
     "data": {
      "text/plain": [
       "array([9, 2, 8])"
      ]
     },
     "execution_count": 41,
     "metadata": {},
     "output_type": "execute_result"
    }
   ],
   "source": [
    "x[-2:1: -1] #by defaukt +1 ho step science"
   ]
  },
  {
   "cell_type": "code",
   "execution_count": 42,
   "id": "91dce616-f6e4-4378-bdf3-b13fb65a59d1",
   "metadata": {},
   "outputs": [
    {
     "data": {
      "text/plain": [
       "array([], dtype=int64)"
      ]
     },
     "execution_count": 42,
     "metadata": {},
     "output_type": "execute_result"
    }
   ],
   "source": [
    "x[-2:1]"
   ]
  },
  {
   "cell_type": "code",
   "execution_count": 43,
   "id": "6a6db90d-85e2-49f8-a8e1-3b3693921a14",
   "metadata": {},
   "outputs": [
    {
     "name": "stdout",
     "output_type": "stream",
     "text": [
      "[5 7 8]\n"
     ]
    }
   ],
   "source": [
    "y =x[0:3]\n",
    "print(y)"
   ]
  },
  {
   "cell_type": "code",
   "execution_count": 44,
   "id": "02f5dd99-2097-4e99-bc9d-7e80c9ecc0d2",
   "metadata": {},
   "outputs": [
    {
     "name": "stdout",
     "output_type": "stream",
     "text": [
      "[ 5  7  8  2  9 15]\n"
     ]
    }
   ],
   "source": [
    "#Modification \n",
    "print(x)"
   ]
  },
  {
   "cell_type": "code",
   "execution_count": 46,
   "id": "2224c5e4-f06e-457a-861b-554a5d53aebe",
   "metadata": {},
   "outputs": [
    {
     "name": "stdout",
     "output_type": "stream",
     "text": [
      "[ 5  7  8 12  9 15]\n"
     ]
    }
   ],
   "source": [
    "# yo amthi ko 2 lai 12 banauna paryo bhane\n",
    "x[3] =12\n",
    "print(x)"
   ]
  },
  {
   "cell_type": "code",
   "execution_count": 47,
   "id": "dec46961-8465-4b1f-b347-d5030b091d26",
   "metadata": {},
   "outputs": [
    {
     "name": "stdout",
     "output_type": "stream",
     "text": [
      "[5 7 8]\n"
     ]
    }
   ],
   "source": [
    "#copy\n",
    "y =x[0:3]\n",
    "print(y)"
   ]
  },
  {
   "cell_type": "code",
   "execution_count": 48,
   "id": "538b3a31-2e56-492a-bbfb-0ddd8b4278c5",
   "metadata": {},
   "outputs": [
    {
     "name": "stdout",
     "output_type": "stream",
     "text": [
      "[15  7  8]\n"
     ]
    }
   ],
   "source": [
    "y[0] = 15\n",
    "print(y)"
   ]
  },
  {
   "cell_type": "code",
   "execution_count": 49,
   "id": "ac2754ee-0d99-486b-b53d-ed93fbed153b",
   "metadata": {},
   "outputs": [
    {
     "name": "stdout",
     "output_type": "stream",
     "text": [
      "[15  7  8 12  9 15]\n"
     ]
    }
   ],
   "source": [
    "print(x)"
   ]
  },
  {
   "cell_type": "code",
   "execution_count": null,
   "id": "fd5e852f-cc2f-4d21-b852-63ebe7f19298",
   "metadata": {},
   "outputs": [],
   "source": [
    "#copy view \n",
    "#banako y copy hainaaa view ho, so inndepenet vayenaa"
   ]
  },
  {
   "cell_type": "code",
   "execution_count": 50,
   "id": "bf7f497a-ff5a-4f30-b570-7396340ec13e",
   "metadata": {},
   "outputs": [
    {
     "name": "stdout",
     "output_type": "stream",
     "text": [
      "[5 7 8]\n"
     ]
    }
   ],
   "source": [
    "x =  np.array([5,7,8,2,9,15])\n",
    "y =x[0: 3].copy()\n",
    "print(y)"
   ]
  },
  {
   "cell_type": "code",
   "execution_count": 52,
   "id": "2152b56d-ceec-405f-945e-eeb0b7c8d3f0",
   "metadata": {},
   "outputs": [
    {
     "name": "stdout",
     "output_type": "stream",
     "text": [
      "[15  7  8]\n"
     ]
    }
   ],
   "source": [
    "y[0] = 15\n",
    "print(y)"
   ]
  },
  {
   "cell_type": "code",
   "execution_count": 53,
   "id": "eca8b20e-9464-4e61-86ae-c38fc00d51bc",
   "metadata": {},
   "outputs": [
    {
     "name": "stdout",
     "output_type": "stream",
     "text": [
      "[ 5  7  8  2  9 15]\n"
     ]
    }
   ],
   "source": [
    "print(x)"
   ]
  },
  {
   "cell_type": "code",
   "execution_count": 54,
   "id": "15052967-ca61-4583-9956-11f10ac73b4d",
   "metadata": {},
   "outputs": [],
   "source": [
    "#copy ley chhutei memory location use garchhaa bhane view ley same memory location use garchhaa"
   ]
  },
  {
   "cell_type": "code",
   "execution_count": null,
   "id": "8b9966b0-44ba-4609-8f47-ab2f7bcc8890",
   "metadata": {},
   "outputs": [],
   "source": []
  },
  {
   "cell_type": "code",
   "execution_count": 18,
   "id": "74ce137f-1712-46da-94ca-a690901f8189",
   "metadata": {},
   "outputs": [],
   "source": [
    "# #Functions:\n",
    "1.np.sum()\n",
    "2.np.prod()\n",
    "\n",
    "3. np.min()\n",
    "4.np.max()\n",
    "\n",
    "5.np.mean()\n",
    "6.np.std()\n",
    " np.median()\n",
    " np.sort()\n",
    " np.unique()"
   ]
  },
  {
   "cell_type": "code",
   "execution_count": 55,
   "id": "bce942eb-c915-490a-b5be-18ab2abc2a50",
   "metadata": {},
   "outputs": [],
   "source": [
    "x =  np.array([5,7,8,2,9,15])\n"
   ]
  },
  {
   "cell_type": "code",
   "execution_count": 56,
   "id": "7cf81dce-595a-4d04-8d7c-0eabf30f0ab8",
   "metadata": {},
   "outputs": [
    {
     "name": "stdout",
     "output_type": "stream",
     "text": [
      "46\n"
     ]
    }
   ],
   "source": [
    "sum = np.sum(x)\n",
    "print(sum)"
   ]
  },
  {
   "cell_type": "code",
   "execution_count": 59,
   "id": "e3078302-1466-4db8-8e09-68c940e35b30",
   "metadata": {},
   "outputs": [
    {
     "name": "stdout",
     "output_type": "stream",
     "text": [
      "sum=46\n"
     ]
    }
   ],
   "source": [
    "sum = np.sum(x)\n",
    "print(f'sum={sum}')"
   ]
  },
  {
   "cell_type": "code",
   "execution_count": null,
   "id": "cd03aa96-9ec2-4d5a-9121-07b44c17fb21",
   "metadata": {},
   "outputs": [],
   "source": []
  },
  {
   "cell_type": "code",
   "execution_count": 57,
   "id": "41bea1c1-8735-47d3-91ad-5e851c4b5dcb",
   "metadata": {},
   "outputs": [],
   "source": [
    "#x.shape #numpy ko array le call garne"
   ]
  },
  {
   "cell_type": "code",
   "execution_count": 58,
   "id": "b120d0bb-7b5c-4680-b75d-5466f77cd412",
   "metadata": {},
   "outputs": [
    {
     "name": "stdout",
     "output_type": "stream",
     "text": [
      "75600\n"
     ]
    }
   ],
   "source": [
    "prod = np.prod(x)\n",
    "print(prod)"
   ]
  },
  {
   "cell_type": "code",
   "execution_count": 61,
   "id": "feb6edc4-6750-4058-b76a-1745fda215c1",
   "metadata": {},
   "outputs": [
    {
     "name": "stdout",
     "output_type": "stream",
     "text": [
      "min=2\n"
     ]
    }
   ],
   "source": [
    "min= np.min(x)\n",
    "print( f'min={min}')"
   ]
  },
  {
   "cell_type": "code",
   "execution_count": 62,
   "id": "73a69c06-5c7a-4505-bdb6-b5db923161f6",
   "metadata": {},
   "outputs": [
    {
     "name": "stdout",
     "output_type": "stream",
     "text": [
      "max=15\n"
     ]
    }
   ],
   "source": [
    "max= np.max(x)\n",
    "print( f'max={max}')"
   ]
  },
  {
   "cell_type": "code",
   "execution_count": 63,
   "id": "e754d795-28e3-49dc-938d-c8923b0a4f61",
   "metadata": {},
   "outputs": [
    {
     "name": "stdout",
     "output_type": "stream",
     "text": [
      "mean=7.666666666666667\n"
     ]
    }
   ],
   "source": [
    "mean= np.mean(x)\n",
    "print( f'mean={mean}')"
   ]
  },
  {
   "cell_type": "code",
   "execution_count": 66,
   "id": "569da724-9cbf-40d9-a4f4-fae6b77ded5d",
   "metadata": {},
   "outputs": [
    {
     "name": "stdout",
     "output_type": "stream",
     "text": [
      "mean=7.67\n"
     ]
    }
   ],
   "source": [
    "#point pachhadi 6666666667 naaaikana .67 sammaa aaune garna ko lagi\n",
    "mean= np.mean(x)\n",
    "print( f'mean={mean:.2f}') #.2f ko maning point pachhdi ko 2 ottaa dene\n"
   ]
  },
  {
   "cell_type": "code",
   "execution_count": 64,
   "id": "b0d726eb-ab76-49ea-8854-8d558e6577c9",
   "metadata": {},
   "outputs": [
    {
     "name": "stdout",
     "output_type": "stream",
     "text": [
      "std=3.986086914367133\n"
     ]
    }
   ],
   "source": [
    "std= np.std(x)  #std=>standard deviation\n",
    "print( f'std={std}')"
   ]
  },
  {
   "cell_type": "code",
   "execution_count": 65,
   "id": "a15a03ac-ed55-484d-9854-45959d6bb31f",
   "metadata": {},
   "outputs": [],
   "source": [
    "#if sab value 5 vako vaye std = 0 kinaki value scatter vako chhaina"
   ]
  },
  {
   "cell_type": "code",
   "execution_count": 67,
   "id": "58e0e795-2716-48a7-ad5a-27b2bfccea2f",
   "metadata": {},
   "outputs": [
    {
     "name": "stdout",
     "output_type": "stream",
     "text": [
      "median=7.5\n"
     ]
    }
   ],
   "source": [
    "median= np.median(x)\n",
    "print( f'median={median}')"
   ]
  },
  {
   "cell_type": "code",
   "execution_count": 68,
   "id": "32bc6c60-f54d-4257-8a89-fe9fd0dfc55d",
   "metadata": {},
   "outputs": [
    {
     "name": "stdout",
     "output_type": "stream",
     "text": [
      "sort=[ 2  5  7  8  9 15]\n"
     ]
    }
   ],
   "source": [
    "sort= np.sort(x)  #by default ascending \n",
    "print( f'sort={sort}')"
   ]
  },
  {
   "cell_type": "code",
   "execution_count": 73,
   "id": "42f0e5c0-7904-4e45-863a-5b1eaf65f43a",
   "metadata": {},
   "outputs": [
    {
     "name": "stdout",
     "output_type": "stream",
     "text": [
      "sort=[15  9  8  7  5  5  2]\n"
     ]
    }
   ],
   "source": [
    "#for decending\n",
    "sort= np.sort(x)[::-1]  #sort in ascending then reversse it\n",
    "print( f'sort={sort}')\n"
   ]
  },
  {
   "cell_type": "code",
   "execution_count": 72,
   "id": "e3bb5078-c387-46e2-99c9-d605ec0894bd",
   "metadata": {},
   "outputs": [
    {
     "name": "stdout",
     "output_type": "stream",
     "text": [
      "unique=[ 2  5  7  8  9 15]\n"
     ]
    }
   ],
   "source": [
    "#2 ottaaa 5 vako vayeni yeutaa matraa dentyo unique le gardaa\n",
    "unique= np.unique(x)\n",
    "print( f'unique={unique}')"
   ]
  },
  {
   "cell_type": "code",
   "execution_count": 75,
   "id": "6e861ef1-4e95-4fd3-acf7-5b1de76eabd0",
   "metadata": {},
   "outputs": [],
   "source": [
    "#for documentation \n",
    "numpy documentation"
   ]
  },
  {
   "cell_type": "code",
   "execution_count": 76,
   "id": "2f147aba-e3cf-46d9-b1d9-f499937736fa",
   "metadata": {},
   "outputs": [
    {
     "name": "stdout",
     "output_type": "stream",
     "text": [
      "Help on _ArrayFunctionDispatcher in module numpy:\n",
      "\n",
      "sort(a, axis=-1, kind=None, order=None, *, stable=None)\n",
      "    Return a sorted copy of an array.\n",
      "\n",
      "    Parameters\n",
      "    ----------\n",
      "    a : array_like\n",
      "        Array to be sorted.\n",
      "    axis : int or None, optional\n",
      "        Axis along which to sort. If None, the array is flattened before\n",
      "        sorting. The default is -1, which sorts along the last axis.\n",
      "    kind : {'quicksort', 'mergesort', 'heapsort', 'stable'}, optional\n",
      "        Sorting algorithm. The default is 'quicksort'. Note that both 'stable'\n",
      "        and 'mergesort' use timsort or radix sort under the covers and,\n",
      "        in general, the actual implementation will vary with data type.\n",
      "        The 'mergesort' option is retained for backwards compatibility.\n",
      "    order : str or list of str, optional\n",
      "        When `a` is an array with fields defined, this argument specifies\n",
      "        which fields to compare first, second, etc.  A single field can\n",
      "        be specified as a string, and not all fields need be specified,\n",
      "        but unspecified fields will still be used, in the order in which\n",
      "        they come up in the dtype, to break ties.\n",
      "    stable : bool, optional\n",
      "        Sort stability. If ``True``, the returned array will maintain\n",
      "        the relative order of ``a`` values which compare as equal.\n",
      "        If ``False`` or ``None``, this is not guaranteed. Internally,\n",
      "        this option selects ``kind='stable'``. Default: ``None``.\n",
      "\n",
      "        .. versionadded:: 2.0.0\n",
      "\n",
      "    Returns\n",
      "    -------\n",
      "    sorted_array : ndarray\n",
      "        Array of the same type and shape as `a`.\n",
      "\n",
      "    See Also\n",
      "    --------\n",
      "    ndarray.sort : Method to sort an array in-place.\n",
      "    argsort : Indirect sort.\n",
      "    lexsort : Indirect stable sort on multiple keys.\n",
      "    searchsorted : Find elements in a sorted array.\n",
      "    partition : Partial sort.\n",
      "\n",
      "    Notes\n",
      "    -----\n",
      "    The various sorting algorithms are characterized by their average speed,\n",
      "    worst case performance, work space size, and whether they are stable. A\n",
      "    stable sort keeps items with the same key in the same relative\n",
      "    order. The four algorithms implemented in NumPy have the following\n",
      "    properties:\n",
      "\n",
      "    =========== ======= ============= ============ ========\n",
      "       kind      speed   worst case    work space   stable\n",
      "    =========== ======= ============= ============ ========\n",
      "    'quicksort'    1     O(n^2)            0          no\n",
      "    'heapsort'     3     O(n*log(n))       0          no\n",
      "    'mergesort'    2     O(n*log(n))      ~n/2        yes\n",
      "    'timsort'      2     O(n*log(n))      ~n/2        yes\n",
      "    =========== ======= ============= ============ ========\n",
      "\n",
      "    .. note:: The datatype determines which of 'mergesort' or 'timsort'\n",
      "       is actually used, even if 'mergesort' is specified. User selection\n",
      "       at a finer scale is not currently available.\n",
      "\n",
      "    For performance, ``sort`` makes a temporary copy if needed to make the data\n",
      "    `contiguous <https://numpy.org/doc/stable/glossary.html#term-contiguous>`_\n",
      "    in memory along the sort axis. For even better performance and reduced\n",
      "    memory consumption, ensure that the array is already contiguous along the\n",
      "    sort axis.\n",
      "\n",
      "    The sort order for complex numbers is lexicographic. If both the real\n",
      "    and imaginary parts are non-nan then the order is determined by the\n",
      "    real parts except when they are equal, in which case the order is\n",
      "    determined by the imaginary parts.\n",
      "\n",
      "    Previous to numpy 1.4.0 sorting real and complex arrays containing nan\n",
      "    values led to undefined behaviour. In numpy versions >= 1.4.0 nan\n",
      "    values are sorted to the end. The extended sort order is:\n",
      "\n",
      "      * Real: [R, nan]\n",
      "      * Complex: [R + Rj, R + nanj, nan + Rj, nan + nanj]\n",
      "\n",
      "    where R is a non-nan real value. Complex values with the same nan\n",
      "    placements are sorted according to the non-nan part if it exists.\n",
      "    Non-nan values are sorted as before.\n",
      "\n",
      "    quicksort has been changed to:\n",
      "    `introsort <https://en.wikipedia.org/wiki/Introsort>`_.\n",
      "    When sorting does not make enough progress it switches to\n",
      "    `heapsort <https://en.wikipedia.org/wiki/Heapsort>`_.\n",
      "    This implementation makes quicksort O(n*log(n)) in the worst case.\n",
      "\n",
      "    'stable' automatically chooses the best stable sorting algorithm\n",
      "    for the data type being sorted.\n",
      "    It, along with 'mergesort' is currently mapped to\n",
      "    `timsort <https://en.wikipedia.org/wiki/Timsort>`_\n",
      "    or `radix sort <https://en.wikipedia.org/wiki/Radix_sort>`_\n",
      "    depending on the data type.\n",
      "    API forward compatibility currently limits the\n",
      "    ability to select the implementation and it is hardwired for the different\n",
      "    data types.\n",
      "\n",
      "    Timsort is added for better performance on already or nearly\n",
      "    sorted data. On random data timsort is almost identical to\n",
      "    mergesort. It is now used for stable sort while quicksort is still the\n",
      "    default sort if none is chosen. For timsort details, refer to\n",
      "    `CPython listsort.txt\n",
      "    <https://github.com/python/cpython/blob/3.7/Objects/listsort.txt>`_\n",
      "    'mergesort' and 'stable' are mapped to radix sort for integer data types.\n",
      "    Radix sort is an O(n) sort instead of O(n log n).\n",
      "\n",
      "    NaT now sorts to the end of arrays for consistency with NaN.\n",
      "\n",
      "    Examples\n",
      "    --------\n",
      "    >>> import numpy as np\n",
      "    >>> a = np.array([[1,4],[3,1]])\n",
      "    >>> np.sort(a)                # sort along the last axis\n",
      "    array([[1, 4],\n",
      "           [1, 3]])\n",
      "    >>> np.sort(a, axis=None)     # sort the flattened array\n",
      "    array([1, 1, 3, 4])\n",
      "    >>> np.sort(a, axis=0)        # sort along the first axis\n",
      "    array([[1, 1],\n",
      "           [3, 4]])\n",
      "\n",
      "    Use the `order` keyword to specify a field to use when sorting a\n",
      "    structured array:\n",
      "\n",
      "    >>> dtype = [('name', 'S10'), ('height', float), ('age', int)]\n",
      "    >>> values = [('Arthur', 1.8, 41), ('Lancelot', 1.9, 38),\n",
      "    ...           ('Galahad', 1.7, 38)]\n",
      "    >>> a = np.array(values, dtype=dtype)       # create a structured array\n",
      "    >>> np.sort(a, order='height')                        # doctest: +SKIP\n",
      "    array([('Galahad', 1.7, 38), ('Arthur', 1.8, 41),\n",
      "           ('Lancelot', 1.8999999999999999, 38)],\n",
      "          dtype=[('name', '|S10'), ('height', '<f8'), ('age', '<i4')])\n",
      "\n",
      "    Sort by age, then height if ages are equal:\n",
      "\n",
      "    >>> np.sort(a, order=['age', 'height'])               # doctest: +SKIP\n",
      "    array([('Galahad', 1.7, 38), ('Lancelot', 1.8999999999999999, 38),\n",
      "           ('Arthur', 1.8, 41)],\n",
      "          dtype=[('name', '|S10'), ('height', '<f8'), ('age', '<i4')])\n",
      "\n"
     ]
    }
   ],
   "source": [
    "help(np.sort)#sorting ko documentation"
   ]
  },
  {
   "cell_type": "code",
   "execution_count": null,
   "id": "f1dcc7b2-9a8d-4b43-a9dd-ce0f5b4c3cbb",
   "metadata": {},
   "outputs": [],
   "source": [
    "#Array arithmetic\n",
    "np.add()\n",
    "np.multiply()\n",
    "np.divide()\n",
    "np.floor_divide()\n",
    "np.mod()\n",
    "np.power()\n",
    "np.sqrt()"
   ]
  },
  {
   "cell_type": "code",
   "execution_count": 77,
   "id": "36bedcdd-f407-4e0a-8f6e-15fa2e1d6084",
   "metadata": {},
   "outputs": [
    {
     "name": "stdout",
     "output_type": "stream",
     "text": [
      "[7 5 9 5]\n"
     ]
    }
   ],
   "source": [
    "x = np.array([5,4,6,1])\n",
    "y = np.array([2,1,3,4])\n",
    "#corresponfing element ko sum\n",
    "z = np.add(x,y)\n",
    "print(z)"
   ]
  },
  {
   "cell_type": "code",
   "execution_count": 79,
   "id": "81540004-e9ef-4d9c-b83a-79bf58fc73d3",
   "metadata": {},
   "outputs": [
    {
     "name": "stdout",
     "output_type": "stream",
     "text": [
      "[7 5 9 5]\n"
     ]
    }
   ],
   "source": [
    "z= x + y\n",
    "print(z)"
   ]
  },
  {
   "cell_type": "code",
   "execution_count": 80,
   "id": "b8ea33fe-b308-4302-a698-c78e302fdd69",
   "metadata": {},
   "outputs": [
    {
     "ename": "ValueError",
     "evalue": "operands could not be broadcast together with shapes (4,) (5,) ",
     "output_type": "error",
     "traceback": [
      "\u001b[31m---------------------------------------------------------------------------\u001b[39m",
      "\u001b[31mValueError\u001b[39m                                Traceback (most recent call last)",
      "\u001b[36mCell\u001b[39m\u001b[36m \u001b[39m\u001b[32mIn[80]\u001b[39m\u001b[32m, line 4\u001b[39m\n\u001b[32m      2\u001b[39m y = np.array([\u001b[32m2\u001b[39m,\u001b[32m1\u001b[39m,\u001b[32m3\u001b[39m,\u001b[32m4\u001b[39m,\u001b[32m5\u001b[39m])\n\u001b[32m      3\u001b[39m \u001b[38;5;66;03m#corresponfing element ko sum\u001b[39;00m\n\u001b[32m----> \u001b[39m\u001b[32m4\u001b[39m z = \u001b[43mnp\u001b[49m\u001b[43m.\u001b[49m\u001b[43madd\u001b[49m\u001b[43m(\u001b[49m\u001b[43mx\u001b[49m\u001b[43m,\u001b[49m\u001b[43my\u001b[49m\u001b[43m)\u001b[49m\n\u001b[32m      5\u001b[39m \u001b[38;5;28mprint\u001b[39m(z)\n",
      "\u001b[31mValueError\u001b[39m: operands could not be broadcast together with shapes (4,) (5,) "
     ]
    }
   ],
   "source": [
    "x = np.array([5,4,6,1])\n",
    "y = np.array([2,1,3,4,5])\n",
    "#corresponfing element ko sum\n",
    "z = np.add(x,y)\n",
    "print(z)"
   ]
  },
  {
   "cell_type": "code",
   "execution_count": 81,
   "id": "6f15d403-f853-4849-aa18-ac5a27b538f5",
   "metadata": {},
   "outputs": [],
   "source": [
    "#error aayo because k=array ko size same hunu paryo"
   ]
  },
  {
   "cell_type": "code",
   "execution_count": 82,
   "id": "725c4d4d-0695-44d8-83b2-46d981c80780",
   "metadata": {},
   "outputs": [
    {
     "name": "stdout",
     "output_type": "stream",
     "text": [
      "[2.5  4.   2.   0.25]\n"
     ]
    }
   ],
   "source": [
    "x = np.array([5,4,6,1])\n",
    "y = np.array([2,1,3,4])\n",
    "\n",
    "z = x/y\n",
    "print(z)"
   ]
  },
  {
   "cell_type": "code",
   "execution_count": 83,
   "id": "0029196d-9677-47e3-8544-53b0adaabf16",
   "metadata": {},
   "outputs": [],
   "source": [
    "#floor_divide ley point pachhadi ko dedena"
   ]
  },
  {
   "cell_type": "code",
   "execution_count": 84,
   "id": "09111202-f42f-4d10-8c8e-4eff231e4480",
   "metadata": {},
   "outputs": [
    {
     "name": "stdout",
     "output_type": "stream",
     "text": [
      "[10  4 18  4]\n"
     ]
    }
   ],
   "source": [
    "x = np.array([5,4,6,1])\n",
    "y = np.array([2,1,3,4])\n",
    "\n",
    "z = np.multiply(x,y)\n",
    "print(z)"
   ]
  },
  {
   "cell_type": "code",
   "execution_count": 86,
   "id": "9af88277-2bb8-45e7-8b8b-bd3b8c6d1ff2",
   "metadata": {},
   "outputs": [
    {
     "name": "stdout",
     "output_type": "stream",
     "text": [
      "[1 0 0 1]\n"
     ]
    }
   ],
   "source": [
    "x = np.array([5,4,6,1])\n",
    "y = np.array([2,1,3,4])\n",
    "\n",
    "z = np.mod(x,y)# mod ley remainder denchhaa\n",
    "print(z)"
   ]
  },
  {
   "cell_type": "code",
   "execution_count": 88,
   "id": "c92fd2ab-d29c-4882-a768-48da30d8d603",
   "metadata": {},
   "outputs": [
    {
     "name": "stdout",
     "output_type": "stream",
     "text": [
      "[2 4 2 0]\n"
     ]
    }
   ],
   "source": [
    "x = np.array([5,4,6,1])\n",
    "y = np.array([2,1,3,4])\n",
    "\n",
    "z = np.floor_divide(x,y) #point pachhadi ko dedemaa\n",
    "print(z)"
   ]
  },
  {
   "cell_type": "code",
   "execution_count": 89,
   "id": "c0f0ffe7-08be-4b37-bb34-edd50fb9d50e",
   "metadata": {},
   "outputs": [
    {
     "name": "stdout",
     "output_type": "stream",
     "text": [
      "[ 25   4 216   1]\n"
     ]
    }
   ],
   "source": [
    "x = np.array([5,4,6,1])\n",
    "y = np.array([2,1,3,4])\n",
    "\n",
    "z = np.power(x,y)\n",
    "print(z)"
   ]
  },
  {
   "cell_type": "code",
   "execution_count": 91,
   "id": "db779380-0dbe-4e1c-ab75-3ad27b4a18e8",
   "metadata": {},
   "outputs": [
    {
     "name": "stdout",
     "output_type": "stream",
     "text": [
      "[2.23606798 2.         2.44948974 1.        ]\n"
     ]
    }
   ],
   "source": [
    "x = np.array([5,4,6,1])\n",
    "y = np.array([2,1,3,4])\n",
    "\n",
    "z = np.sqrt(x) #sqrt ma(x,y) deda dedena individually ki ta x ko ki y ko sqrt garnu parchhaa. \n",
    "print(z)"
   ]
  },
  {
   "cell_type": "code",
   "execution_count": 92,
   "id": "57fb8684-251e-4fad-9f58-10f2edaaf9b2",
   "metadata": {},
   "outputs": [],
   "source": [
    "#cube root lagauna ko lagi .sqrt jasto specific function chhaina so k garne vandaa power ma 1/3 type ko hannee"
   ]
  },
  {
   "cell_type": "code",
   "execution_count": null,
   "id": "042271fc-2aeb-419c-957a-929d96ef74e3",
   "metadata": {},
   "outputs": [],
   "source": [
    "#braodcasting\n",
    "- np.zeros()\n",
    "- np.ones()\n",
    "- np.full()\n",
    "- np.arange()\n",
    "-np.linspsace()\n",
    "-np.random.random()\n",
    "-np.random.randint()\n",
    "-np.random.uniform()\n",
    "\n",
    "#random generation"
   ]
  }
 ],
 "metadata": {
  "kernelspec": {
   "display_name": "Python 3 (ipykernel)",
   "language": "python",
   "name": "python3"
  },
  "language_info": {
   "codemirror_mode": {
    "name": "ipython",
    "version": 3
   },
   "file_extension": ".py",
   "mimetype": "text/x-python",
   "name": "python",
   "nbconvert_exporter": "python",
   "pygments_lexer": "ipython3",
   "version": "3.13.3"
  }
 },
 "nbformat": 4,
 "nbformat_minor": 5
}
