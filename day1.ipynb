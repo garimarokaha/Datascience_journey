{
 "cells": [
  {
   "cell_type": "code",
   "execution_count": 1,
   "id": "0e349928-97b5-456b-8620-2c5810b42ed5",
   "metadata": {},
   "outputs": [
    {
     "name": "stdout",
     "output_type": "stream",
     "text": [
      "data scienceee\n",
      "11\n"
     ]
    }
   ],
   "source": [
    "print (\"data scienceee\")\n",
    "a = 5\n",
    "b= 6\n",
    "print(a+b)"
   ]
  },
  {
   "cell_type": "code",
   "execution_count": 2,
   "id": "610cef8b-f6c6-4c91-b642-33133af3ffe4",
   "metadata": {},
   "outputs": [],
   "source": [
    "# shift + enter => arko cell pani banchhaa,,,, run garda\n",
    "# cntrl + enter"
   ]
  },
  {
   "cell_type": "code",
   "execution_count": null,
   "id": "da19ac9f-c68d-428b-bfd0-d87db7e2b386",
   "metadata": {},
   "outputs": [],
   "source": [
    "Run: ctrl+ enter\n",
    "    shift +enter\n",
    "\n",
    "Add cell: +\n",
    "         Esc + b "
   ]
  },
  {
   "cell_type": "code",
   "execution_count": 3,
   "id": "9aef0a60-477a-495a-bd38-dadb6b877811",
   "metadata": {},
   "outputs": [],
   "source": [
    "#Markdown => for documentation purpose\n"
   ]
  },
  {
   "cell_type": "markdown",
   "id": "fa3484f6-e621-4598-977e-cc4421235935",
   "metadata": {},
   "source": [
    "class from today"
   ]
  },
  {
   "cell_type": "markdown",
   "id": "0856302c-510c-44ae-9a2d-f4fdef945d1b",
   "metadata": {},
   "source": [
    "- A \n",
    "- B \n",
    "- C\n",
    "- minus space then a , b gardaa bullet aauchhaa"
   ]
  },
  {
   "cell_type": "markdown",
   "id": "e12ae095-4d7d-461e-8a31-57b7c66d9ada",
   "metadata": {},
   "source": [
    "# Class from today"
   ]
  },
  {
   "cell_type": "markdown",
   "id": "e4f5f162-155e-4d47-bbf4-4f178c768991",
   "metadata": {},
   "source": [
    "## class from today"
   ]
  },
  {
   "cell_type": "code",
   "execution_count": 6,
   "id": "4b2e4635-b7a7-4cde-869e-af62aae1f3b2",
   "metadata": {},
   "outputs": [],
   "source": [
    "# heading ko lagi mathi codd lai markplace banaune then #(hash) space ani sentence lekhesi heading 1 \n",
    "## double hash garesi h2 heading gardei jadaa h6 sammaa banuna sakenchhha"
   ]
  },
  {
   "cell_type": "markdown",
   "id": "4dadfd00-d09b-4041-9b80-992c88a6be2d",
   "metadata": {},
   "source": [
    "#                      Numpy \n"
   ]
  },
  {
   "cell_type": "markdown",
   "id": "68f1c97a-609a-45e3-b85c-162945aeacb2",
   "metadata": {},
   "source": [
    "NUmpy is used for Numerical python and\n",
    "computing/statistical\n",
    "Homogeneous=> type same hunu parchhaa\n"
   ]
  },
  {
   "cell_type": "code",
   "execution_count": 7,
   "id": "ecdda372-f7c9-490a-afa0-e5fe483fefef",
   "metadata": {},
   "outputs": [],
   "source": [
    "# Numpy array banauda sabko type same hunu parchhaa\n"
   ]
  },
  {
   "cell_type": "code",
   "execution_count": 8,
   "id": "c92d6153-ab65-493f-8c76-9e5799540504",
   "metadata": {},
   "outputs": [
    {
     "name": "stdout",
     "output_type": "stream",
     "text": [
      "[5, 6, 7, 8, 'data']\n"
     ]
    }
   ],
   "source": [
    "abc =[5,6,7,8,'data']\n",
    "print(abc)"
   ]
  },
  {
   "cell_type": "code",
   "execution_count": 9,
   "id": "edf25bcf-d73b-4a94-8402-ec5957390483",
   "metadata": {},
   "outputs": [
    {
     "name": "stdout",
     "output_type": "stream",
     "text": [
      "Requirement already satisfied: numpy in c:\\users\\lenovo\\appdata\\local\\programs\\python\\python313\\lib\\site-packages (2.2.5)\n",
      "Note: you may need to restart the kernel to use updated packages.\n"
     ]
    },
    {
     "name": "stderr",
     "output_type": "stream",
     "text": [
      "\n",
      "[notice] A new release of pip is available: 25.0.1 -> 25.1.1\n",
      "[notice] To update, run: python.exe -m pip install --upgrade pip\n"
     ]
    }
   ],
   "source": [
    "pip install numpy\n"
   ]
  },
  {
   "cell_type": "raw",
   "id": "6957b570-e74e-4bbf-8eb3-a05c19a49ac2",
   "metadata": {},
   "source": [
    "pip install --upgrade pip\n"
   ]
  },
  {
   "cell_type": "code",
   "execution_count": 16,
   "id": "71000952-9ac2-4063-8653-d86980f8b5c2",
   "metadata": {},
   "outputs": [],
   "source": [
    "import numpy as np"
   ]
  },
  {
   "cell_type": "code",
   "execution_count": 18,
   "id": "f50f9d50-ca6c-4ba4-a9a1-da85f3bd0a10",
   "metadata": {},
   "outputs": [
    {
     "name": "stdout",
     "output_type": "stream",
     "text": [
      "[ 5  7  4  9 12]\n"
     ]
    }
   ],
   "source": [
    "x = np.array([5,7,4,9,12])\n",
    "print(x)"
   ]
  },
  {
   "cell_type": "raw",
   "id": "606f5fbe-94d9-4269-8c42-ebaf394dd3e7",
   "metadata": {},
   "source": [
    "1. Indexing\n",
    "2. Slicing \n",
    "\n",
    "Attributes\n",
    "shape\n",
    "size\n",
    "ndim\n",
    "type"
   ]
  },
  {
   "cell_type": "code",
   "execution_count": null,
   "id": "d140ab00-8d0f-47e8-afc1-ffeb50136405",
   "metadata": {},
   "outputs": [],
   "source": []
  }
 ],
 "metadata": {
  "kernelspec": {
   "display_name": "Python 3 (ipykernel)",
   "language": "python",
   "name": "python3"
  },
  "language_info": {
   "codemirror_mode": {
    "name": "ipython",
    "version": 3
   },
   "file_extension": ".py",
   "mimetype": "text/x-python",
   "name": "python",
   "nbconvert_exporter": "python",
   "pygments_lexer": "ipython3",
   "version": "3.13.3"
  }
 },
 "nbformat": 4,
 "nbformat_minor": 5
}
