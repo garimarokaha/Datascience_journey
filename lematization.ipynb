{
 "cells": [
  {
   "cell_type": "code",
   "execution_count": 1,
   "id": "de265752-ba92-45ae-90aa-1b49e5ee87a1",
   "metadata": {},
   "outputs": [],
   "source": []
  },
  {
   "cell_type": "code",
   "execution_count": 2,
   "id": "def41fca-9ee9-468b-a113-35e3ea0bb579",
   "metadata": {},
   "outputs": [],
   "source": []
  },
  {
   "cell_type": "code",
   "execution_count": null,
   "id": "0762f447-f016-4d71-935c-4d3751584448",
   "metadata": {},
   "outputs": [],
   "source": [
    "nltk ko bhnadaa spacy ko proper hunchhaa."
   ]
  },
  {
   "cell_type": "code",
   "execution_count": 6,
   "id": "ac80d1dd-49bf-49ca-a4e7-4fcc0612e175",
   "metadata": {},
   "outputs": [],
   "source": [
    "from nltk.stem import WordNetLemmatizer\n"
   ]
  },
  {
   "cell_type": "code",
   "execution_count": 7,
   "id": "91193094-4ff4-462d-a6a4-6b3a257f4ed3",
   "metadata": {},
   "outputs": [
    {
     "ename": "NameError",
     "evalue": "name 'words_tokenize' is not defined",
     "output_type": "error",
     "traceback": [
      "\u001b[1;31m---------------------------------------------------------------------------\u001b[0m",
      "\u001b[1;31mNameError\u001b[0m                                 Traceback (most recent call last)",
      "Cell \u001b[1;32mIn[7], line 2\u001b[0m\n\u001b[0;32m      1\u001b[0m lemmatizer \u001b[38;5;241m=\u001b[39m WordNetLemmatizer()\n\u001b[1;32m----> 2\u001b[0m tokens \u001b[38;5;241m=\u001b[39m words_tokenize(final_content)\n\u001b[0;32m      4\u001b[0m lemmatized_words \u001b[38;5;241m=\u001b[39m [lemmatizer\u001b[38;5;241m.\u001b[39mlemmatize(w) \u001b[38;5;28;01mfor\u001b[39;00m w \u001b[38;5;129;01min\u001b[39;00m tokens]\n",
      "\u001b[1;31mNameError\u001b[0m: name 'words_tokenize' is not defined"
     ]
    }
   ],
   "source": [
    "lemmatizer = WordNetLemmatizer()\n",
    "tokens = words_tokenize(final_content)\n",
    "\n",
    "lemmatized_words = [lemmatizer.lemmatize(w) for w in tokens]"
   ]
  },
  {
   "cell_type": "code",
   "execution_count": null,
   "id": "effb31dd-efa9-49b8-9a3a-7917bf054736",
   "metadata": {},
   "outputs": [],
   "source": [
    "lemmatized_words"
   ]
  },
  {
   "cell_type": "code",
   "execution_count": null,
   "id": "1635dba5-84c5-4f85-a050-27a331bbcf8e",
   "metadata": {},
   "outputs": [],
   "source": [
    "#lemmatization ko kaam\n",
    "kunei pani word lai tesko dictonary form ma back lyaidenchhaa.\n",
    "jasto ki sleep , slept , sleeping yesto lai sleep ma convert gardenchhaa. (root word ma)"
   ]
  },
  {
   "cell_type": "code",
   "execution_count": null,
   "id": "c4daeefb-5100-49ab-92a6-34385b8c352f",
   "metadata": {},
   "outputs": [],
   "source": [
    "final_content = ' '.join(lemmatized.words)\n",
    "final_content"
   ]
  },
  {
   "cell_type": "code",
   "execution_count": 4,
   "id": "4cba4f64-0b25-40c6-b422-2bdb375157c1",
   "metadata": {},
   "outputs": [],
   "source": [
    "eg = ['ran','run','runs','running']\n"
   ]
  },
  {
   "cell_type": "code",
   "execution_count": null,
   "id": "8ab9a4e9-0a23-47d6-a976-ba24d0cc49af",
   "metadata": {},
   "outputs": [],
   "source": [
    "lemmas = [token.lemma_ for token in eg]\n",
    "print(\"Lemmas:\", lemmas)"
   ]
  },
  {
   "cell_type": "code",
   "execution_count": null,
   "id": "5f8254f5-14fc-4bb9-ac1b-a57283d185f2",
   "metadata": {},
   "outputs": [],
   "source": []
  },
  {
   "cell_type": "code",
   "execution_count": null,
   "id": "925e3fa3-e7ec-4d01-88c3-a612ce11fa53",
   "metadata": {},
   "outputs": [],
   "source": []
  },
  {
   "cell_type": "code",
   "execution_count": null,
   "id": "fc5fc07e-6e34-4cb1-a133-6525d051a323",
   "metadata": {},
   "outputs": [],
   "source": [
    "## Run with spacy\n"
   ]
  },
  {
   "cell_type": "code",
   "execution_count": null,
   "id": "a33bf6ec-9022-422e-8c99-60da0dab116c",
   "metadata": {},
   "outputs": [],
   "source": []
  },
  {
   "cell_type": "code",
   "execution_count": null,
   "id": "5a620b0c-5624-4420-93a6-0285e48a3d82",
   "metadata": {},
   "outputs": [],
   "source": []
  },
  {
   "cell_type": "code",
   "execution_count": null,
   "id": "7174c8a4-37bb-4636-94e4-66f421e4cce6",
   "metadata": {},
   "outputs": [],
   "source": []
  },
  {
   "cell_type": "code",
   "execution_count": null,
   "id": "314f9ae9-f9af-4e93-8962-45da2d5bb6f1",
   "metadata": {},
   "outputs": [],
   "source": []
  },
  {
   "cell_type": "code",
   "execution_count": null,
   "id": "5b766691-d8b6-4281-817d-cbe57378ea67",
   "metadata": {},
   "outputs": [],
   "source": []
  },
  {
   "cell_type": "code",
   "execution_count": null,
   "id": "46237f2d-d130-4152-abd6-9c4cbe9e558e",
   "metadata": {},
   "outputs": [],
   "source": []
  },
  {
   "cell_type": "code",
   "execution_count": null,
   "id": "6b96c925-62b1-4ce2-86a4-1cb8daf12a25",
   "metadata": {},
   "outputs": [],
   "source": []
  },
  {
   "cell_type": "code",
   "execution_count": null,
   "id": "0ca26862-1088-4c0a-990e-59c970134c8f",
   "metadata": {},
   "outputs": [],
   "source": []
  }
 ],
 "metadata": {
  "kernelspec": {
   "display_name": "Python 3 (ipykernel)",
   "language": "python",
   "name": "python3"
  },
  "language_info": {
   "codemirror_mode": {
    "name": "ipython",
    "version": 3
   },
   "file_extension": ".py",
   "mimetype": "text/x-python",
   "name": "python",
   "nbconvert_exporter": "python",
   "pygments_lexer": "ipython3",
   "version": "3.12.7"
  }
 },
 "nbformat": 4,
 "nbformat_minor": 5
}
